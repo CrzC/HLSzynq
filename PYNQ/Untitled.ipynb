{
 "cells": [
  {
   "cell_type": "code",
   "execution_count": 1,
   "metadata": {},
   "outputs": [
    {
     "data": {
      "application/javascript": [
       "\n",
       "require(['notebook/js/codecell'], function(codecell) {\n",
       "  codecell.CodeCell.options_default.highlight_modes[\n",
       "      'magic_text/x-csrc'] = {'reg':[/^%%microblaze/]};\n",
       "  Jupyter.notebook.events.one('kernel_ready.Kernel', function(){\n",
       "      Jupyter.notebook.get_cells().map(function(cell){\n",
       "          if (cell.cell_type == 'code'){ cell.auto_highlight(); } }) ;\n",
       "  });\n",
       "});\n"
      ]
     },
     "metadata": {},
     "output_type": "display_data"
    }
   ],
   "source": [
    "from pynq import Overlay\n",
    "ol = Overlay(\"./compuertas.bit\")"
   ]
  },
  {
   "cell_type": "code",
   "execution_count": 2,
   "metadata": {},
   "outputs": [],
   "source": [
    "ol?"
   ]
  },
  {
   "cell_type": "code",
   "execution_count": 3,
   "metadata": {},
   "outputs": [],
   "source": [
    "seleccion=ol.axi_gpio_0\n",
    "salida=ol.axi_gpio_1"
   ]
  },
  {
   "cell_type": "code",
   "execution_count": null,
   "metadata": {},
   "outputs": [
    {
     "name": "stdout",
     "output_type": "stream",
     "text": [
      "************Segunda Practica ZYNQ + PYTHON **************\n",
      "\n",
      "\n",
      "                      A: AND %d\n",
      "                      B: OR\n",
      "                      C: XOR\n",
      "                      D: NOR\n",
      "                      \n",
      "                      Ingrese selección: A\n",
      "Realizando AND\n",
      "Resultado   1\n",
      "************Segunda Practica ZYNQ + PYTHON **************\n",
      "\n"
     ]
    }
   ],
   "source": [
    "import csv\n",
    "import sys\n",
    "\n",
    "def main():\n",
    "   menu()\n",
    "\n",
    "def menu():\n",
    "    print(\"************Segunda Practica ZYNQ + PYTHON **************\")\n",
    "    print()\n",
    "\n",
    "    choice = input(\"\"\"\n",
    "                      A: AND %d\n",
    "                      B: OR\n",
    "                      C: XOR\n",
    "                      D: NOR\n",
    "                      \n",
    "                      Ingrese selección: \"\"\")\n",
    "\n",
    "    if choice == \"A\" or choice ==\"a\":\n",
    "        and_op()\n",
    "        print(\"Resultado  \",salida.read(0x00))\n",
    "    elif choice == \"B\" or choice ==\"b\":\n",
    "        or_op()\n",
    "        print(\"Resultado  \",salida.read(0x00))\n",
    "    elif choice == \"C\" or choice ==\"c\":\n",
    "        xor_op()\n",
    "        print(\"Resultado  \",salida.read(0x00))\n",
    "    elif choice == \"D\" or choice ==\"d\":\n",
    "        nor_op()\n",
    "        print(\"Resultado  \",salida.read(0x00))\n",
    "    else:\n",
    "        print(\"Ingrese una opción valida\")\n",
    "        print(\"Intente de nuevo\")\n",
    "        menu()\n",
    "\n",
    "def and_op():\n",
    "   pass\n",
    "   print(\"Realizando AND\")\n",
    "   seleccion.write(0x0,0) \n",
    "    \n",
    "def or_op():\n",
    "   pass\n",
    "   print(\"Realizando OR\")\n",
    "   seleccion.write(0x0,1) \n",
    "def xor_op():\n",
    "   pass\n",
    "   print(\"Realizando XOR\")\n",
    "   seleccion.write(0x0,2) \n",
    "def nor_op():\n",
    "   pass\n",
    "   print(\"Realizando NOR\")\n",
    "   seleccion.write(0x0,3) \n",
    "while 1:    \n",
    "   main()"
   ]
  },
  {
   "cell_type": "code",
   "execution_count": null,
   "metadata": {},
   "outputs": [],
   "source": [
    "\n",
    "\n",
    "    \n",
    "    "
   ]
  }
 ],
 "metadata": {
  "kernelspec": {
   "display_name": "Python 3",
   "language": "python",
   "name": "python3"
  },
  "language_info": {
   "codemirror_mode": {
    "name": "ipython",
    "version": 3
   },
   "file_extension": ".py",
   "mimetype": "text/x-python",
   "name": "python",
   "nbconvert_exporter": "python",
   "pygments_lexer": "ipython3",
   "version": "3.6.5"
  }
 },
 "nbformat": 4,
 "nbformat_minor": 2
}
